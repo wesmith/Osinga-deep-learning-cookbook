{
 "cells": [
  {
   "cell_type": "code",
   "execution_count": 3,
   "metadata": {},
   "outputs": [],
   "source": [
    "import requests\n",
    "from bs4 import BeautifulSoup\n",
    "import os\n",
    "import time\n",
    "from keras.utils import get_file\n",
    "try:\n",
    "    from urllib.request import urlretrieve\n",
    "except ImportError:\n",
    "    from urllib import urlretrieve\n",
    "import xml.sax\n",
    "\n",
    "import subprocess\n",
    "import mwparserfromhell\n",
    "import json"
   ]
  },
  {
   "cell_type": "code",
   "execution_count": 4,
   "metadata": {},
   "outputs": [],
   "source": [
    "index = requests.get('https://dumps.wikimedia.org/enwiki/').text"
   ]
  },
  {
   "cell_type": "code",
   "execution_count": 6,
   "metadata": {},
   "outputs": [
    {
     "data": {
      "text/plain": [
       "'<html>\\r\\n<head><title>Index of /enwiki/</title></head>\\r\\n<body bgcolor=\"white\">\\r\\n<h1>Index of /enwiki/</h1><hr><pre><a href=\"../\">../</a>\\r\\n<a href=\"20180801/\">20180801/</a>                                          21-Sep-2018 01:33                   -\\r\\n<a href=\"20180820/\">20180820/</a>                                          02-Oct-2018 01:27                   -\\r\\n<a href=\"20180901/\">20180901/</a>                                          21-Oct-2018 01:31                   -\\r\\n<a href=\"20180920/\">20180920/</a>                                          02-Nov-2018 01:27                   -\\r\\n<a href=\"20181001/\">20181001/</a>                                          11-Oct-2018 17:43                   -\\r\\n<a href=\"20181020/\">20181020/</a>                                          26-Oct-2018 05:45                   -\\r\\n<a href=\"20181101/\">20181101/</a>                                          11-Nov-2018 11:16                   -\\r\\n<a href=\"latest/\">latest/</a>                                            11-Nov-2018 11:15                   -\\r\\n</pre><hr></body>\\r\\n</html>\\r\\n'"
      ]
     },
     "execution_count": 6,
     "metadata": {},
     "output_type": "execute_result"
    }
   ],
   "source": [
    "index  # WS 11/13/18"
   ]
  },
  {
   "cell_type": "code",
   "execution_count": 7,
   "metadata": {},
   "outputs": [],
   "source": [
    "soup_index = BeautifulSoup(index, 'html.parser')"
   ]
  },
  {
   "cell_type": "code",
   "execution_count": 9,
   "metadata": {},
   "outputs": [
    {
     "data": {
      "text/plain": [
       "<html>\n",
       "<head><title>Index of /enwiki/</title></head>\n",
       "<body bgcolor=\"white\">\n",
       "<h1>Index of /enwiki/</h1><hr/><pre><a href=\"../\">../</a>\n",
       "<a href=\"20180801/\">20180801/</a>                                          21-Sep-2018 01:33                   -\n",
       "<a href=\"20180820/\">20180820/</a>                                          02-Oct-2018 01:27                   -\n",
       "<a href=\"20180901/\">20180901/</a>                                          21-Oct-2018 01:31                   -\n",
       "<a href=\"20180920/\">20180920/</a>                                          02-Nov-2018 01:27                   -\n",
       "<a href=\"20181001/\">20181001/</a>                                          11-Oct-2018 17:43                   -\n",
       "<a href=\"20181020/\">20181020/</a>                                          26-Oct-2018 05:45                   -\n",
       "<a href=\"20181101/\">20181101/</a>                                          11-Nov-2018 11:16                   -\n",
       "<a href=\"latest/\">latest/</a>                                            11-Nov-2018 11:15                   -\n",
       "</pre><hr/></body>\n",
       "</html>"
      ]
     },
     "execution_count": 9,
     "metadata": {},
     "output_type": "execute_result"
    }
   ],
   "source": [
    "soup_index  # WS 11/13/18"
   ]
  },
  {
   "cell_type": "code",
   "execution_count": 12,
   "metadata": {},
   "outputs": [
    {
     "data": {
      "text/plain": [
       "[<a href=\"../\">../</a>,\n",
       " <a href=\"20180801/\">20180801/</a>,\n",
       " <a href=\"20180820/\">20180820/</a>,\n",
       " <a href=\"20180901/\">20180901/</a>,\n",
       " <a href=\"20180920/\">20180920/</a>,\n",
       " <a href=\"20181001/\">20181001/</a>,\n",
       " <a href=\"20181020/\">20181020/</a>,\n",
       " <a href=\"20181101/\">20181101/</a>,\n",
       " <a href=\"latest/\">latest/</a>]"
      ]
     },
     "execution_count": 12,
     "metadata": {},
     "output_type": "execute_result"
    }
   ],
   "source": [
    "soup_index.find_all('a')  # WS 11/13/18"
   ]
  },
  {
   "cell_type": "code",
   "execution_count": 20,
   "metadata": {},
   "outputs": [
    {
     "data": {
      "text/plain": [
       "bs4.element.Tag"
      ]
     },
     "execution_count": 20,
     "metadata": {},
     "output_type": "execute_result"
    }
   ],
   "source": [
    "dd = soup_index.find_all('a')[1]\n",
    "type(dd)  # WS 11/13/18"
   ]
  },
  {
   "cell_type": "code",
   "execution_count": 22,
   "metadata": {},
   "outputs": [
    {
     "data": {
      "text/plain": [
       "'20180801/'"
      ]
     },
     "execution_count": 22,
     "metadata": {},
     "output_type": "execute_result"
    }
   ],
   "source": [
    "dd['href']  # WS 11/13/18"
   ]
  },
  {
   "cell_type": "code",
   "execution_count": 25,
   "metadata": {},
   "outputs": [
    {
     "data": {
      "text/plain": [
       "'20180801'"
      ]
     },
     "execution_count": 25,
     "metadata": {},
     "output_type": "execute_result"
    }
   ],
   "source": [
    "dd.text[:-1]  # WS 11/13/18  all chars except the last one"
   ]
  },
  {
   "cell_type": "code",
   "execution_count": 10,
   "metadata": {},
   "outputs": [
    {
     "data": {
      "text/plain": [
       "['20180801/',\n",
       " '20180820/',\n",
       " '20180901/',\n",
       " '20180920/',\n",
       " '20181001/',\n",
       " '20181020/',\n",
       " '20181101/']"
      ]
     },
     "execution_count": 10,
     "metadata": {},
     "output_type": "execute_result"
    }
   ],
   "source": [
    "dumps = [a['href'] for a in soup_index.find_all('a') \n",
    "             if a.has_attr('href') and a.text[:-1].isdigit()]\n",
    "dumps"
   ]
  },
  {
   "cell_type": "code",
   "execution_count": 26,
   "metadata": {},
   "outputs": [
    {
     "name": "stdout",
     "output_type": "stream",
     "text": [
      "20181101/\n"
     ]
    }
   ],
   "source": [
    "for dump_url in sorted(dumps, reverse=True):\n",
    "    print(dump_url)\n",
    "    dump_html = index = requests.get('https://dumps.wikimedia.org/enwiki/' + dump_url).text\n",
    "    soup_dump = BeautifulSoup(dump_html, 'html.parser')\n",
    "    pages_xml = [a['href'] for a in soup_dump.find_all('a') \n",
    "                 if a.has_attr('href') and a['href'].endswith('-pages-articles.xml.bz2')]\n",
    "    if pages_xml:\n",
    "        break\n",
    "    time.sleep(0.8)"
   ]
  },
  {
   "cell_type": "code",
   "execution_count": 32,
   "metadata": {},
   "outputs": [
    {
     "data": {
      "text/plain": [
       "'/enwiki/20181101/enwiki-20181101-pages-articles.xml.bz2'"
      ]
     },
     "execution_count": 32,
     "metadata": {},
     "output_type": "execute_result"
    }
   ],
   "source": [
    "pages_xml[0]  # WS 11/13/18  the file below is 14.5 GB!"
   ]
  },
  {
   "cell_type": "code",
   "execution_count": 31,
   "metadata": {},
   "outputs": [
    {
     "data": {
      "text/plain": [
       "'enwiki-20181101-pages-articles.xml.bz2'"
      ]
     },
     "execution_count": 31,
     "metadata": {},
     "output_type": "execute_result"
    }
   ],
   "source": [
    "wikipedia_dump = pages_xml[0].rsplit('/')[-1]\n",
    "wikipedia_dump  # WS 11/13/18"
   ]
  },
  {
   "cell_type": "markdown",
   "metadata": {},
   "source": [
    "## WS 11/13/18  Stopped short here, before downloading the 14.5 GB file!!!"
   ]
  },
  {
   "cell_type": "code",
   "execution_count": null,
   "metadata": {},
   "outputs": [
    {
     "name": "stdout",
     "output_type": "stream",
     "text": [
      "Downloading data from https://dumps.wikimedia.org//enwiki/20180901/enwiki-20180901-pages-articles.xml.bz2\n",
      " 7939751936/15398410099 [==============>...............] - ETA: 1:00:18"
     ]
    }
   ],
   "source": [
    "url = url = 'https://dumps.wikimedia.org/' + pages_xml[0] \n",
    "path = get_file(wikipedia_dump, url)\n",
    "path"
   ]
  },
  {
   "cell_type": "code",
   "execution_count": null,
   "metadata": {
    "collapsed": true
   },
   "outputs": [],
   "source": [
    "def process_article(title, text):\n",
    "    rotten = [(re.findall('\\d\\d?\\d?%', p), re.findall('\\d\\.\\d\\/\\d+|$', p), p.lower().find('rotten tomatoes')) for p in text.split('\\n\\n')]\n",
    "    rating = next(((perc[0], rating[0]) for perc, rating, idx in rotten if len(perc) == 1 and idx > -1), (None, None))\n",
    "    wikicode = mwparserfromhell.parse(text)\n",
    "    film = next((template for template in wikicode.filter_templates() \n",
    "                 if template.name.strip().lower() == 'infobox film'), None)\n",
    "    if film:\n",
    "        properties = {param.name.strip_code().strip(): param.value.strip_code().strip() \n",
    "                      for param in film.params\n",
    "                      if param.value.strip_code().strip()\n",
    "                     }\n",
    "        links = [x.title.strip_code().strip() for x in wikicode.filter_wikilinks()]\n",
    "        return (title, properties, links) + rating"
   ]
  },
  {
   "cell_type": "code",
   "execution_count": null,
   "metadata": {
    "collapsed": true
   },
   "outputs": [],
   "source": [
    "class WikiXmlHandler(xml.sax.handler.ContentHandler):\n",
    "    def __init__(self):\n",
    "        xml.sax.handler.ContentHandler.__init__(self)\n",
    "        self._buffer = None\n",
    "        self._values = {}\n",
    "        self._movies = []\n",
    "        self._curent_tag = None\n",
    "\n",
    "    def characters(self, content):\n",
    "        if self._curent_tag:\n",
    "            self._buffer.append(content)\n",
    "\n",
    "    def startElement(self, name, attrs):\n",
    "        if name in ('title', 'text'):\n",
    "            self._curent_tag = name\n",
    "            self._buffer = []\n",
    "\n",
    "    def endElement(self, name):\n",
    "        if name == self._curent_tag:\n",
    "            self._values[name] = ' '.join(self._buffer)\n",
    "\n",
    "        if name == 'page':\n",
    "            movie = process_article(**self._values)\n",
    "            if movie:\n",
    "                self._movies.append(movie)"
   ]
  },
  {
   "cell_type": "code",
   "execution_count": null,
   "metadata": {
    "collapsed": true
   },
   "outputs": [],
   "source": [
    "parser = xml.sax.make_parser()\n",
    "handler = WikiXmlHandler()\n",
    "parser.setContentHandler(handler)\n",
    "for line in subprocess.Popen(['bzcat'], stdin=open(path), stdout=subprocess.PIPE).stdout:\n",
    "    try:\n",
    "        parser.feed(line)\n",
    "    except StopIteration:\n",
    "        break"
   ]
  },
  {
   "cell_type": "code",
   "execution_count": null,
   "metadata": {
    "collapsed": true
   },
   "outputs": [],
   "source": [
    "with open('generated/wp_movies.ndjson', 'wt') as fout:\n",
    "    for movie in handler._movies:\n",
    "         fout.write(json.dumps(movie) + '\\n')"
   ]
  }
 ],
 "metadata": {
  "kernelspec": {
   "display_name": "Python 3",
   "language": "python",
   "name": "python3"
  },
  "language_info": {
   "codemirror_mode": {
    "name": "ipython",
    "version": 3
   },
   "file_extension": ".py",
   "mimetype": "text/x-python",
   "name": "python",
   "nbconvert_exporter": "python",
   "pygments_lexer": "ipython3",
   "version": "3.6.1"
  }
 },
 "nbformat": 4,
 "nbformat_minor": 1
}
